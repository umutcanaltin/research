{
  "nbformat": 4,
  "nbformat_minor": 0,
  "metadata": {
    "colab": {
      "name": "Untitled0.ipynb",
      "version": "0.3.2",
      "provenance": [],
      "collapsed_sections": []
    },
    "kernelspec": {
      "name": "python3",
      "display_name": "Python 3"
    }
  },
  "cells": [
    {
      "metadata": {
        "id": "qq0QoC0A-7r_",
        "colab_type": "code",
        "colab": {
          "base_uri": "https://localhost:8080/",
          "height": 955
        },
        "outputId": "543c0c2f-88fd-4e8f-b4bb-a654be8722a0"
      },
      "cell_type": "code",
      "source": [
        "from keras.models import Sequential\n",
        "from keras.layers import Dense, Conv2D, Dropout, Flatten, MaxPooling2D\n",
        "import tensorflow as tf\n",
        "(x_train, y_train), (x_test, y_test) = tf.keras.datasets.mnist.load_data()\n",
        "\n",
        "import matplotlib.pyplot as plt\n",
        "\n",
        "image_index = 7777 # You may select anything up to 60,000\n",
        "print(y_train[image_index]) # The label is 8\n",
        "plt.imshow(x_train[image_index], cmap='Greys')\n",
        "\n",
        "\n",
        "\n",
        "# Reshaping the array to 4-dims so that it can work with the Keras API\n",
        "x_train = x_train.reshape(x_train.shape[0], 28, 28, 1)\n",
        "x_test = x_test.reshape(x_test.shape[0], 28, 28, 1)\n",
        "input_shape = (28, 28, 1)\n",
        "# Making sure that the values are float so that we can get decimal points after division\n",
        "x_train = x_train.astype('float32')\n",
        "x_test = x_test.astype('float32')\n",
        "# Normalizing the RGB codes by dividing it to the max RGB value.\n",
        "x_train /= 255\n",
        "x_test /= 255\n",
        "print('x_train shape:', x_train.shape)\n",
        "print('Number of images in x_train', x_train.shape[0])\n",
        "print('Number of images in x_test', x_test.shape[0])\n",
        "\n",
        "\n",
        "\n",
        "model = Sequential()\n",
        "model.add(Conv2D(28, kernel_size=(3,3), input_shape=input_shape))\n",
        "model.add(MaxPooling2D(pool_size=(2, 2)))\n",
        "model.add(Flatten()) # Flattening the 2D arrays for fully connected layers\n",
        "model.add(Dense(128, activation=tf.nn.relu))\n",
        "model.add(Dropout(0.2))\n",
        "model.add(Dense(10,activation=tf.nn.softmax))\n",
        "\n",
        "model.compile(optimizer='adam', \n",
        "              loss='sparse_categorical_crossentropy', \n",
        "              metrics=['accuracy'])\n",
        "model.fit(x=x_train,y=y_train, epochs=10)\n",
        "model.evaluate(x_test, y_test)"
      ],
      "execution_count": 2,
      "outputs": [
        {
          "output_type": "stream",
          "text": [
            "8\n",
            "x_train shape: (60000, 28, 28, 1)\n",
            "Number of images in x_train 60000\n",
            "Number of images in x_test 10000\n",
            "WARNING:tensorflow:From /usr/local/lib/python3.6/dist-packages/tensorflow/python/framework/op_def_library.py:263: colocate_with (from tensorflow.python.framework.ops) is deprecated and will be removed in a future version.\n",
            "Instructions for updating:\n",
            "Colocations handled automatically by placer.\n",
            "WARNING:tensorflow:From /usr/local/lib/python3.6/dist-packages/keras/backend/tensorflow_backend.py:3445: calling dropout (from tensorflow.python.ops.nn_ops) with keep_prob is deprecated and will be removed in a future version.\n",
            "Instructions for updating:\n",
            "Please use `rate` instead of `keep_prob`. Rate should be set to `rate = 1 - keep_prob`.\n",
            "WARNING:tensorflow:From /usr/local/lib/python3.6/dist-packages/tensorflow/python/ops/math_ops.py:3066: to_int32 (from tensorflow.python.ops.math_ops) is deprecated and will be removed in a future version.\n",
            "Instructions for updating:\n",
            "Use tf.cast instead.\n",
            "Epoch 1/10\n",
            "60000/60000 [==============================] - 45s 748us/step - loss: 0.2089 - acc: 0.9361\n",
            "Epoch 2/10\n",
            "60000/60000 [==============================] - 45s 744us/step - loss: 0.0847 - acc: 0.9753\n",
            "Epoch 3/10\n",
            "60000/60000 [==============================] - 44s 739us/step - loss: 0.0609 - acc: 0.9810\n",
            "Epoch 4/10\n",
            "60000/60000 [==============================] - 44s 727us/step - loss: 0.0462 - acc: 0.9858\n",
            "Epoch 5/10\n",
            "60000/60000 [==============================] - 43s 723us/step - loss: 0.0358 - acc: 0.9878\n",
            "Epoch 6/10\n",
            "60000/60000 [==============================] - 43s 721us/step - loss: 0.0283 - acc: 0.9905\n",
            "Epoch 7/10\n",
            "60000/60000 [==============================] - 44s 732us/step - loss: 0.0253 - acc: 0.9915\n",
            "Epoch 8/10\n",
            "60000/60000 [==============================] - 44s 734us/step - loss: 0.0208 - acc: 0.9931\n",
            "Epoch 9/10\n",
            "60000/60000 [==============================] - 42s 707us/step - loss: 0.0197 - acc: 0.9930\n",
            "Epoch 10/10\n",
            "60000/60000 [==============================] - 44s 727us/step - loss: 0.0161 - acc: 0.9946\n",
            "10000/10000 [==============================] - 2s 237us/step\n"
          ],
          "name": "stdout"
        },
        {
          "output_type": "execute_result",
          "data": {
            "text/plain": [
              "[0.06411730992621852, 0.9838]"
            ]
          },
          "metadata": {
            "tags": []
          },
          "execution_count": 2
        },
        {
          "output_type": "display_data",
          "data": {
            "image/png": "[encoded data removed]",
            "text/plain": [
              "<Figure size 576x396 with 1 Axes>"
            ]
          },
          "metadata": {
            "tags": []
          }
        }
      ]
    },
    {
      "metadata": {
        "id": "5ahG2qO2C2ib",
        "colab_type": "code",
        "colab": {
          "base_uri": "https://localhost:8080/",
          "height": 138
        },
        "outputId": "f0af629b-022a-4cdb-9174-940beefdcb6a"
      },
      "cell_type": "code",
      "source": [
        "# Load the Drive helper and mount\n",
        "from google.colab import drive\n",
        "\n",
        "# This will prompt for authorization.\n",
        "drive.mount('/content/drive')\n",
        "!ls \"/content/drive/My Drive/ismail_hoca\"\n"
      ],
      "execution_count": 4,
      "outputs": [
        {
          "output_type": "stream",
          "text": [
            "Go to this URL in a browser: https://accounts.google.com/o/oauth2/auth?client_id=947318989803-6bn6qk8qdgf4n4g3pfee6491hc0brc4i.apps.googleusercontent.com&redirect_uri=urn%3Aietf%3Awg%3Aoauth%3A2.0%3Aoob&scope=email%20https%3A%2F%2Fwww.googleapis.com%2Fauth%2Fdocs.test%20https%3A%2F%2Fwww.googleapis.com%2Fauth%2Fdrive%20https%3A%2F%2Fwww.googleapis.com%2Fauth%2Fdrive.photos.readonly%20https%3A%2F%2Fwww.googleapis.com%2Fauth%2Fpeopleapi.readonly&response_type=code\n",
            "\n",
            "Enter your authorization code:\n",
            "··········\n",
            "Mounted at /content/drive\n",
            "model.h5  model.json  Untitled0.ipynb\n"
          ],
          "name": "stdout"
        }
      ]
    },
    {
      "metadata": {
        "id": "FIVLb4FMDWVc",
        "colab_type": "code",
        "colab": {
          "base_uri": "https://localhost:8080/",
          "height": 34
        },
        "outputId": "05a99190-4870-4f9a-d428-3fa4d0bdc2fa"
      },
      "cell_type": "code",
      "source": [
        "import os\n",
        "model_json = model.to_json()\n",
        "with open(\"/content/drive/My Drive/ismail_hoca/model.json\", \"w\") as json_file:\n",
        "    json_file.write(model_json)\n",
        "# serialize weights to HDF5\n",
        "model.save_weights(\"/content/drive/My Drive/ismail_hoca/model.h5\")\n",
        "print(\"Saved model to disk\")"
      ],
      "execution_count": 7,
      "outputs": [
        {
          "output_type": "stream",
          "text": [
            "Saved model to disk\n"
          ],
          "name": "stdout"
        }
      ]
    },
    {
      "metadata": {
        "id": "iUMQdaUGDliz",
        "colab_type": "code",
        "colab": {
          "base_uri": "https://localhost:8080/",
          "height": 67
        },
        "outputId": "abd1a6fa-13de-438b-ac80-a1d4a28fcaff"
      },
      "cell_type": "code",
      "source": [
        "import json\n",
        "from pprint import pprint\n",
        "\n",
        "with open('/content/drive/My Drive/ismail_hoca/model.json') as f:\n",
        "    data = json.load(f)\n",
        "for denses in data[\"config\"][\"layers\"]:\n",
        "\t#pprint(denses[\"class_name\"])\n",
        "  #pprint([i for i in denses[\"config\"]])\n",
        "  a = denses['config']\n",
        "  if(denses[\"class_name\"]=='Conv2D' or denses[\"class_name\"]=='Dense'): \n",
        "    pprint(a['activation'])"
      ],
      "execution_count": 32,
      "outputs": [
        {
          "output_type": "stream",
          "text": [
            "'linear'\n",
            "'relu'\n",
            "'softmax'\n"
          ],
          "name": "stdout"
        }
      ]
    },
    {
      "metadata": {
        "id": "l1tbqpo5u7Q2",
        "colab_type": "code",
        "colab": {
          "base_uri": "https://localhost:8080/",
          "height": 1310
        },
        "outputId": "c5807544-5774-494c-fe2a-1e371606e4fd"
      },
      "cell_type": "code",
      "source": [
        "import numpy as np\n",
        "import h5py\n",
        "f = h5py.File(\"/content/drive/My Drive/ismail_hoca/model.h5\")\n",
        "\n",
        "datasetNames = [n for n in f.keys()]\n",
        "for n in datasetNames:\n",
        "  print(n)\n",
        "print(f[\"conv2d_1\"]['conv2d_1']['bias:0'])\n",
        "print([i for i in f[\"conv2d_1\"]['conv2d_1']['kernel:0']])"
      ],
      "execution_count": 75,
      "outputs": [
        {
          "output_type": "stream",
          "text": [
            "conv2d_1\n",
            "dense_1\n",
            "dense_2\n",
            "dropout_1\n",
            "flatten_1\n",
            "max_pooling2d_1\n",
            "<HDF5 dataset \"bias:0\": shape (28,), type \"<f4\">\n",
            "[array([[[-0.28544965,  0.0645867 , -0.09111715,  0.01137273,\n",
            "         -0.404321  , -0.07104111, -0.42213374,  0.05074816,\n",
            "          0.12480693, -0.15524463,  0.11317348, -0.45762148,\n",
            "         -0.32239407,  0.067644  ,  0.1256463 , -0.01466105,\n",
            "          0.1179775 ,  0.36827323, -0.25987768, -0.05385657,\n",
            "         -0.06564254, -0.40520984, -0.22947158, -0.01752427,\n",
            "         -0.00794573, -0.07171726,  0.19826078, -0.31499717]],\n",
            "\n",
            "       [[-0.20456435, -0.1574077 , -0.03754637,  0.40632045,\n",
            "         -0.32364815, -0.01122096,  0.19869725, -0.31398946,\n",
            "         -0.42770445,  0.25910947,  0.1389594 ,  0.05588596,\n",
            "         -0.36867103, -0.03844684,  0.2720821 ,  0.14097236,\n",
            "          0.41699964,  0.39412746,  0.31644195, -0.04739218,\n",
            "         -0.02944239,  0.0100253 , -0.174162  ,  0.15530288,\n",
            "         -0.0072551 , -0.02953839,  0.11147555,  0.2945129 ]],\n",
            "\n",
            "       [[-0.20885172, -0.19766335, -0.17912972,  0.17646904,\n",
            "         -0.02715772, -0.4243179 ,  0.11888717, -0.26120457,\n",
            "         -0.10041224, -0.04855286,  0.0818106 ,  0.14923969,\n",
            "         -0.44720313, -0.06874908, -0.36275855, -0.2232846 ,\n",
            "          0.41226667, -0.0690334 , -0.12943146,  0.06095976,\n",
            "          0.03649756,  0.06940451,  0.6125631 , -0.19260322,\n",
            "         -0.01090584, -0.1441699 , -0.18157297, -0.05206024]]],\n",
            "      dtype=float32), array([[[ 0.10677632,  0.310357  ,  0.13969253, -0.45605963,\n",
            "          0.19875737,  0.15217282,  0.20020676,  0.36665672,\n",
            "         -0.07546789,  0.26867825,  0.10671194,  0.24207954,\n",
            "         -0.2728517 , -0.13012382,  0.28702727,  0.13446595,\n",
            "         -0.34513086, -0.14196445, -0.29352084,  0.14448479,\n",
            "          0.04365999,  0.1436948 ,  0.0557988 ,  0.01062203,\n",
            "         -0.31393492, -0.01261815, -0.36880112, -0.15969566]],\n",
            "\n",
            "       [[ 0.29908726, -0.26408952,  0.31033483, -0.22365683,\n",
            "         -0.3239418 ,  0.4683781 ,  0.195848  ,  0.22017339,\n",
            "         -0.18313108,  0.24644767,  0.2734851 ,  0.0794072 ,\n",
            "          0.0638416 ,  0.11016534, -0.07191776, -0.21937317,\n",
            "         -0.14187637, -0.42720437,  0.4743956 , -0.10464562,\n",
            "          0.01291301,  0.4105465 , -0.8820624 ,  0.16766965,\n",
            "          0.26207218,  0.04970524, -0.27874523,  0.43533528]],\n",
            "\n",
            "       [[ 0.45907265, -0.01004755,  0.22833674,  0.23581506,\n",
            "         -0.4178705 ,  0.16345727, -0.18628065, -0.48470914,\n",
            "          0.17165944, -0.33877477,  0.30753785,  0.17272352,\n",
            "         -0.03105834, -0.02142308, -0.25838816, -0.28440583,\n",
            "          0.00228755, -0.49666822, -0.19995336, -0.06356245,\n",
            "         -0.04936517, -0.06651637, -0.06346608, -0.12738243,\n",
            "          0.07411215,  0.02541238,  0.08893745, -0.29999408]]],\n",
            "      dtype=float32), array([[[ 0.05219752,  0.36318874, -0.22939585,  0.15099885,\n",
            "          0.3453938 , -0.38553697,  0.0841402 ,  0.03156729,\n",
            "         -0.3156926 , -0.00151278, -0.394089  ,  0.20169169,\n",
            "          0.36875263,  0.01045046,  0.08346292, -0.24509212,\n",
            "         -0.15370142, -0.35748944, -0.06220027, -0.12318879,\n",
            "          0.02716096, -0.03421557,  0.4807683 , -0.00122748,\n",
            "         -0.28431636, -0.08931452,  0.12625101,  0.01035004]],\n",
            "\n",
            "       [[ 0.01507421, -0.3483555 , -0.2413972 , -0.34535298,\n",
            "          0.49439394,  0.00623633, -0.1557107 ,  0.45110723,\n",
            "         -0.22096093, -0.35795972, -0.38894776, -0.2724827 ,\n",
            "          0.29839456, -0.05525948, -0.24865554, -0.22105125,\n",
            "         -0.35534245, -0.10022573,  0.37576216,  0.17647162,\n",
            "         -0.12427683, -0.04578109, -0.16606964,  0.04394013,\n",
            "          0.11639702,  0.06696466,  0.17682886,  0.11416893]],\n",
            "\n",
            "       [[-0.3631796 , -0.05472631, -0.07462345, -0.04101383,\n",
            "          0.01496122, -0.05843026, -0.10037097, -0.06474217,\n",
            "          0.38089564, -0.04645671, -0.35994476, -0.27088353,\n",
            "          0.24616627, -0.06740209, -0.00497467,  0.32344225,\n",
            "         -0.28381833,  0.1158215 , -0.34067225, -0.0935039 ,\n",
            "          0.03036856, -0.17305216, -0.22046718, -0.03901552,\n",
            "         -0.03339926, -0.12772009,  0.03034281, -0.15667868]]],\n",
            "      dtype=float32)]\n"
          ],
          "name": "stdout"
        }
      ]
    },
    {
      "metadata": {
        "id": "O39ZY2bjzriP",
        "colab_type": "code",
        "colab": {
          "base_uri": "https://localhost:8080/",
          "height": 437
        },
        "outputId": "44fb6403-07c5-4a12-db2f-fcb0a4df1436"
      },
      "cell_type": "code",
      "source": [
        "from keras.models import Sequential\n",
        "from keras.layers import Dense, Conv2D, Dropout, Flatten, MaxPooling2D\n",
        "import tensorflow as tf\n",
        "(x_train, y_train), (x_test, y_test) = tf.keras.datasets.mnist.load_data()\n",
        "\n",
        "\n",
        "\n",
        "\n",
        "\n",
        "x_train = x_train.reshape(x_train.shape[0], 28, 28, 1)\n",
        "x_test = x_test.reshape(x_test.shape[0], 28, 28, 1)\n",
        "input_shape = (28, 28, 1)\n",
        "# Making sure that the values are float so that we can get decimal points after division\n",
        "x_train = x_train.astype('float32')\n",
        "x_test = x_test.astype('float32')\n",
        "# Normalizing the RGB codes by dividing it to the max RGB value.\n",
        "x_train /= 255\n",
        "x_test /= 255\n",
        "print('x_train shape:', x_train.shape)\n",
        "print('Number of images in x_train', x_train.shape[0])\n",
        "print('Number of images in x_test', x_test.shape[0])\n",
        "\n",
        "\n",
        "\n",
        "model = Sequential()\n",
        "model.add(Dense(10,activation=tf.nn.relu, input_shape=input_shape))\n",
        "\n",
        "model.add(Flatten()) # Flattening the 2D arrays for fully connected layers\n",
        "model.add(Dense(10, activation=tf.nn.relu))\n",
        "\n",
        "model.add(Dense(10,activation=tf.nn.softmax))\n",
        "\n",
        "model.compile(optimizer='adam', \n",
        "              loss='sparse_categorical_crossentropy', \n",
        "              metrics=['accuracy'])\n",
        "model.fit(x=x_train,y=y_train, epochs=10)\n",
        "model.evaluate(x_test, y_test)"
      ],
      "execution_count": 90,
      "outputs": [
        {
          "output_type": "stream",
          "text": [
            "x_train shape: (60000, 28, 28, 1)\n",
            "Number of images in x_train 60000\n",
            "Number of images in x_test 10000\n",
            "Epoch 1/10\n",
            "60000/60000 [==============================] - 11s 183us/step - loss: 0.4453 - acc: 0.8703\n",
            "Epoch 2/10\n",
            "60000/60000 [==============================] - 11s 178us/step - loss: 0.3024 - acc: 0.9154\n",
            "Epoch 3/10\n",
            "60000/60000 [==============================] - 11s 178us/step - loss: 0.2798 - acc: 0.9201\n",
            "Epoch 4/10\n",
            "60000/60000 [==============================] - 10s 175us/step - loss: 0.2617 - acc: 0.9261\n",
            "Epoch 5/10\n",
            "60000/60000 [==============================] - 11s 175us/step - loss: 0.2497 - acc: 0.9283\n",
            "Epoch 6/10\n",
            "60000/60000 [==============================] - 10s 175us/step - loss: 0.2393 - acc: 0.9320\n",
            "Epoch 7/10\n",
            "60000/60000 [==============================] - 11s 175us/step - loss: 0.2317 - acc: 0.9336\n",
            "Epoch 8/10\n",
            "60000/60000 [==============================] - 10s 175us/step - loss: 0.2256 - acc: 0.9360\n",
            "Epoch 9/10\n",
            "60000/60000 [==============================] - 10s 174us/step - loss: 0.2212 - acc: 0.9367\n",
            "Epoch 10/10\n",
            "60000/60000 [==============================] - 11s 175us/step - loss: 0.2158 - acc: 0.9380\n",
            "10000/10000 [==============================] - 1s 77us/step\n"
          ],
          "name": "stdout"
        },
        {
          "output_type": "execute_result",
          "data": {
            "text/plain": [
              "[0.23295925698503853, 0.9316]"
            ]
          },
          "metadata": {
            "tags": []
          },
          "execution_count": 90
        }
      ]
    },
    {
      "metadata": {
        "id": "l_Td7f8Q1_6v",
        "colab_type": "code",
        "colab": {}
      },
      "cell_type": "code",
      "source": [
        "from keras.utils.vis_utils import plot_model\n",
        "plot_model(model, to_file='/content/drive/My Drive/ismail_hoca/model_plot.png', show_shapes=True, show_layer_names=True)\n"
      ],
      "execution_count": 0,
      "outputs": []
    },
    {
      "metadata": {
        "id": "pKRrpMsu2mjw",
        "colab_type": "code",
        "colab": {
          "base_uri": "https://localhost:8080/",
          "height": 168
        },
        "outputId": "fd10e832-3bc2-4a2f-a3a9-b596d286242b"
      },
      "cell_type": "code",
      "source": [
        "!pip3 install ann_visualizer\n",
        "!pip install graphviz"
      ],
      "execution_count": 84,
      "outputs": [
        {
          "output_type": "stream",
          "text": [
            "Collecting ann_visualizer\n",
            "  Downloading https://files.pythonhosted.org/packages/db/51/157be500337fba347e32711aaf9f11c1ba9e1162f486a1d708b4ae594ea4/ann_visualizer-2.5.tar.gz\n",
            "Building wheels for collected packages: ann-visualizer\n",
            "  Building wheel for ann-visualizer (setup.py) ... \u001b[?25ldone\n",
            "\u001b[?25h  Stored in directory: /root/.cache/pip/wheels/b6/b4/4e/d92f50c9c4f004cf315a0e0fcd455486bd799c50fe80cf1f5d\n",
            "Successfully built ann-visualizer\n",
            "Installing collected packages: ann-visualizer\n",
            "Successfully installed ann-visualizer-2.5\n",
            "Requirement already satisfied: graphviz in /usr/local/lib/python3.6/dist-packages (0.10.1)\n"
          ],
          "name": "stdout"
        }
      ]
    },
    {
      "metadata": {
        "id": "aE7lsffj22JD",
        "colab_type": "code",
        "colab": {}
      },
      "cell_type": "code",
      "source": [
        "from ann_visualizer.visualize import ann_viz;\n",
        "\n",
        "ann_viz(model, title=\"My first neural network\", filename='/content/drive/My Drive/ismail_hoca/model.gv')"
      ],
      "execution_count": 0,
      "outputs": []
    },
    {
      "metadata": {
        "id": "D4jvph3LH1v1",
        "colab_type": "code",
        "colab": {
          "base_uri": "https://localhost:8080/",
          "height": 286
        },
        "outputId": "45e3b0e7-e4c6-4af4-aa26-d17c0a992b5c"
      },
      "cell_type": "code",
      "source": [
        "print(model.summary())"
      ],
      "execution_count": 94,
      "outputs": [
        {
          "output_type": "stream",
          "text": [
            "_________________________________________________________________\n",
            "Layer (type)                 Output Shape              Param #   \n",
            "=================================================================\n",
            "dense_25 (Dense)             (None, 28, 28, 10)        20        \n",
            "_________________________________________________________________\n",
            "flatten_6 (Flatten)          (None, 7840)              0         \n",
            "_________________________________________________________________\n",
            "dense_26 (Dense)             (None, 10)                78410     \n",
            "_________________________________________________________________\n",
            "dense_27 (Dense)             (None, 10)                110       \n",
            "=================================================================\n",
            "Total params: 78,540\n",
            "Trainable params: 78,540\n",
            "Non-trainable params: 0\n",
            "_________________________________________________________________\n",
            "None\n"
          ],
          "name": "stdout"
        }
      ]
    }
  ]
}